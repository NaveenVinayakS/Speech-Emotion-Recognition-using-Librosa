{
 "cells": [
  {
   "cell_type": "markdown",
   "id": "downtown-planner",
   "metadata": {},
   "source": [
    "#### Speech Emotion Recognition using Librosa"
   ]
  },
  {
   "cell_type": "code",
   "execution_count": 17,
   "id": "treated-contrary",
   "metadata": {},
   "outputs": [],
   "source": [
    "import librosa\n",
    "import soundfile\n",
    "import os, glob, pickle\n",
    "import numpy as np\n",
    "from sklearn.model_selection import train_test_split\n",
    "from sklearn.neural_network import MLPClassifier\n",
    "from sklearn.metrics import accuracy_score"
   ]
  },
  {
   "cell_type": "code",
   "execution_count": 18,
   "id": "searching-paragraph",
   "metadata": {},
   "outputs": [],
   "source": [
    "def extract_feature(file_name, mfcc, chroma, mel):\n",
    "    with soundfile.SoundFile(file_name) as sound_file:\n",
    "        X = sound_file.read(dtype=\"float32\")\n",
    "        sample_rate=sound_file.samplerate\n",
    "        if chroma:\n",
    "            stft=np.abs(librosa.stft(X))\n",
    "        result=np.array([])\n",
    "        if mfcc:\n",
    "            mfccs=np.mean(librosa.feature.mfcc(y=X, sr=sample_rate, n_mfcc=40).T, axis=0)\n",
    "            result=np.hstack((result, mfccs))\n",
    "        if chroma:\n",
    "            chroma=np.mean(librosa.feature.chroma_stft(S=stft, sr=sample_rate).T,axis=0)\n",
    "            result=np.hstack((result, chroma))\n",
    "        if mel:\n",
    "            mel=np.mean(librosa.feature.melspectrogram(X, sr=sample_rate).T,axis=0)\n",
    "            result=np.hstack((result, mel))\n",
    "    return result"
   ]
  },
  {
   "cell_type": "code",
   "execution_count": 19,
   "id": "indie-legislation",
   "metadata": {},
   "outputs": [],
   "source": [
    "emotions={\n",
    "  '01':'neutral',\n",
    "  '02':'calm',\n",
    "  '03':'happy',\n",
    "  '04':'sad',\n",
    "  '05':'angry',\n",
    "  '06':'fearful',\n",
    "  '07':'disgust',\n",
    "  '08':'surprised'\n",
    "}\n",
    "#DataFlair - Emotions to observe\n",
    "observed_emotions=['calm', 'happy', 'fearful', 'disgust']"
   ]
  },
  {
   "cell_type": "code",
   "execution_count": 20,
   "id": "interim-overall",
   "metadata": {},
   "outputs": [],
   "source": [
    "def load_data(test_size=0.2):\n",
    "    x,y=[],[]\n",
    "    for file in glob.glob(\"C:\\\\Users\\\\z030590\\\\OneDrive - Alliance\\\\Desktop\\\\Personal\\\\Project\\\\speech-emotion-recognition-ravdess-data\\\\Actor_*\\\\*.wav\"):\n",
    "        \n",
    "        file_name=os.path.basename(file)\n",
    "        emotion=emotions[file_name.split(\"-\")[2]]\n",
    "        if emotion not in observed_emotions:\n",
    "            continue\n",
    "        feature=extract_feature(file, mfcc=True, chroma=True, mel=True)\n",
    "        x.append(feature)\n",
    "        y.append(emotion)\n",
    "    return train_test_split(np.array(x), y, test_size=test_size, random_state=9)"
   ]
  },
  {
   "cell_type": "code",
   "execution_count": 21,
   "id": "monthly-theme",
   "metadata": {},
   "outputs": [],
   "source": [
    "x_train,x_test,y_train,y_test=load_data(test_size=0.25)"
   ]
  },
  {
   "cell_type": "code",
   "execution_count": 22,
   "id": "dressed-somalia",
   "metadata": {},
   "outputs": [
    {
     "name": "stdout",
     "output_type": "stream",
     "text": [
      "(576, 192)\n"
     ]
    }
   ],
   "source": [
    "print((x_train.shape[0], x_test.shape[0]))"
   ]
  },
  {
   "cell_type": "code",
   "execution_count": 23,
   "id": "unnecessary-elephant",
   "metadata": {},
   "outputs": [],
   "source": [
    "model=MLPClassifier(alpha=0.01, batch_size=256, epsilon=1e-08, hidden_layer_sizes=(300,), learning_rate='adaptive', max_iter=500)"
   ]
  },
  {
   "cell_type": "code",
   "execution_count": 24,
   "id": "suspended-extent",
   "metadata": {},
   "outputs": [
    {
     "data": {
      "text/plain": [
       "MLPClassifier(alpha=0.01, batch_size=256, hidden_layer_sizes=(300,),\n",
       "              learning_rate='adaptive', max_iter=500)"
      ]
     },
     "execution_count": 24,
     "metadata": {},
     "output_type": "execute_result"
    }
   ],
   "source": [
    "model.fit(x_train,y_train)"
   ]
  },
  {
   "cell_type": "code",
   "execution_count": 25,
   "id": "wrapped-edwards",
   "metadata": {},
   "outputs": [],
   "source": [
    "y_pred=model.predict(x_test)"
   ]
  },
  {
   "cell_type": "code",
   "execution_count": 26,
   "id": "photographic-possible",
   "metadata": {},
   "outputs": [
    {
     "data": {
      "text/plain": [
       "array(['happy', 'fearful', 'fearful', 'happy', 'fearful', 'fearful',\n",
       "       'calm', 'disgust', 'calm', 'fearful', 'happy', 'fearful',\n",
       "       'fearful', 'happy', 'disgust', 'happy', 'calm', 'fearful',\n",
       "       'disgust', 'calm', 'disgust', 'disgust', 'disgust', 'calm',\n",
       "       'fearful', 'happy', 'calm', 'happy', 'fearful', 'fearful', 'happy',\n",
       "       'fearful', 'happy', 'fearful', 'happy', 'calm', 'calm', 'fearful',\n",
       "       'calm', 'disgust', 'happy', 'calm', 'fearful', 'calm', 'fearful',\n",
       "       'disgust', 'disgust', 'calm', 'calm', 'happy', 'fearful',\n",
       "       'fearful', 'fearful', 'fearful', 'happy', 'fearful', 'calm',\n",
       "       'happy', 'calm', 'calm', 'disgust', 'calm', 'happy', 'happy',\n",
       "       'disgust', 'calm', 'calm', 'calm', 'fearful', 'fearful', 'fearful',\n",
       "       'fearful', 'fearful', 'fearful', 'fearful', 'disgust', 'fearful',\n",
       "       'happy', 'fearful', 'fearful', 'calm', 'calm', 'fearful', 'calm',\n",
       "       'disgust', 'fearful', 'disgust', 'fearful', 'fearful', 'fearful',\n",
       "       'disgust', 'fearful', 'calm', 'happy', 'disgust', 'fearful',\n",
       "       'calm', 'fearful', 'fearful', 'calm', 'fearful', 'fearful',\n",
       "       'disgust', 'fearful', 'fearful', 'calm', 'disgust', 'fearful',\n",
       "       'fearful', 'happy', 'happy', 'calm', 'fearful', 'fearful',\n",
       "       'fearful', 'disgust', 'calm', 'happy', 'calm', 'fearful',\n",
       "       'disgust', 'calm', 'disgust', 'happy', 'fearful', 'disgust',\n",
       "       'disgust', 'fearful', 'calm', 'calm', 'fearful', 'fearful',\n",
       "       'happy', 'disgust', 'calm', 'fearful', 'fearful', 'calm',\n",
       "       'fearful', 'happy', 'calm', 'fearful', 'disgust', 'fearful',\n",
       "       'happy', 'fearful', 'fearful', 'fearful', 'fearful', 'calm',\n",
       "       'calm', 'happy', 'happy', 'calm', 'happy', 'calm', 'calm',\n",
       "       'fearful', 'calm', 'calm', 'disgust', 'calm', 'calm', 'calm',\n",
       "       'calm', 'fearful', 'fearful', 'fearful', 'calm', 'fearful',\n",
       "       'happy', 'fearful', 'happy', 'disgust', 'fearful', 'fearful',\n",
       "       'calm', 'fearful', 'fearful', 'fearful', 'disgust', 'fearful',\n",
       "       'fearful', 'calm', 'disgust', 'fearful', 'happy', 'fearful',\n",
       "       'happy', 'happy', 'disgust', 'calm'], dtype='<U7')"
      ]
     },
     "execution_count": 26,
     "metadata": {},
     "output_type": "execute_result"
    }
   ],
   "source": [
    "y_pred"
   ]
  },
  {
   "cell_type": "code",
   "execution_count": 27,
   "id": "opened-shade",
   "metadata": {},
   "outputs": [
    {
     "name": "stdout",
     "output_type": "stream",
     "text": [
      "Accuracy: 59.38%\n"
     ]
    }
   ],
   "source": [
    "accuracy=accuracy_score(y_true=y_test, y_pred=y_pred)\n",
    "print(\"Accuracy: {:.2f}%\".format(accuracy*100))"
   ]
  }
 ],
 "metadata": {
  "kernelspec": {
   "display_name": "Python 3",
   "language": "python",
   "name": "python3"
  },
  "language_info": {
   "codemirror_mode": {
    "name": "ipython",
    "version": 3
   },
   "file_extension": ".py",
   "mimetype": "text/x-python",
   "name": "python",
   "nbconvert_exporter": "python",
   "pygments_lexer": "ipython3",
   "version": "3.8.8"
  }
 },
 "nbformat": 4,
 "nbformat_minor": 5
}
